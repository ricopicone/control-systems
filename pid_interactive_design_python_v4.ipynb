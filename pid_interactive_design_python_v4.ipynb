{
 "cells": [
  {
   "cell_type": "code",
   "execution_count": 1,
   "metadata": {
    "tags": [
     "jupyter:kill_cell"
    ]
   },
   "outputs": [],
   "source": [
    "draft_mode = False\n",
    "from front_matter import *\n",
    "import matplotlib as mpl\n",
    "import nbinteract as nbi\n",
    "from ipywidgets import *\n",
    "import matplotlib.pyplot as plt"
   ]
  },
  {
   "cell_type": "markdown",
   "metadata": {},
   "source": [
    "First, load some Python packages."
   ]
  },
  {
   "cell_type": "code",
   "execution_count": 2,
   "metadata": {},
   "outputs": [],
   "source": [
    "import numpy as np # for numerics\n",
    "import sympy as sp # for symbolics\n",
    "import control as c # the Control Systems module!"
   ]
  },
  {
   "cell_type": "code",
   "execution_count": 3,
   "metadata": {},
   "outputs": [],
   "source": [
    "S,kp,ki,kd = sp.symbols('S kp ki kd')"
   ]
  },
  {
   "cell_type": "code",
   "execution_count": 4,
   "metadata": {},
   "outputs": [],
   "source": [
    "G_sym = 15000/(S**4+50*S**3+875*S**2+6250*S+15000)"
   ]
  },
  {
   "cell_type": "code",
   "execution_count": 5,
   "metadata": {},
   "outputs": [],
   "source": [
    "s = c.TransferFunction.s"
   ]
  },
  {
   "cell_type": "code",
   "execution_count": 6,
   "metadata": {},
   "outputs": [],
   "source": [
    "def sym_to_tf(tf_sym,s_var):\n",
    "    S = s_var\n",
    "    s = sp.symbols('s')\n",
    "    tf_sym = tf_sym.subs(S,s)\n",
    "    tf_str = str(tf_sym)\n",
    "    s = c.TransferFunction.s\n",
    "    ldict = {}\n",
    "    exec('tf_out = '+tf_str,globals(),ldict)\n",
    "    tf_out = ldict['tf_out']\n",
    "    return tf_out"
   ]
  },
  {
   "cell_type": "code",
   "execution_count": 7,
   "metadata": {},
   "outputs": [],
   "source": [
    "def pid_CL_tf(plant_tf,Kp=0,Ki=0,Kd=0):\n",
    "    s = c.TransferFunction.s\n",
    "    C_pid_tf = Kp + Ki/s + Kd*s\n",
    "    return c.feedback(C_pid_tf*plant_tf)"
   ]
  },
  {
   "cell_type": "code",
   "execution_count": 8,
   "metadata": {},
   "outputs": [],
   "source": [
    "G_tf = sym_to_tf(G_sym,S)"
   ]
  },
  {
   "cell_type": "code",
   "execution_count": 9,
   "metadata": {},
   "outputs": [
    {
     "data": {
      "image/png": "[encoded data removed]",
      "text/plain": [
       "<Figure size 432x288 with 1 Axes>"
      ]
     },
     "metadata": {
      "needs_background": "light"
     },
     "output_type": "display_data"
    },
    {
     "data": {
      "application/vnd.jupyter.widget-view+json": {
       "model_id": "47cfdf10d3ed4374a737622ccf620abe",
       "version_major": 2,
       "version_minor": 0
      },
      "text/plain": [
       "interactive(children=(FloatSlider(value=1.0, description='Kp', max=10.0), FloatSlider(value=0.0, description='…"
      ]
     },
     "metadata": {},
     "output_type": "display_data"
    }
   ],
   "source": [
    "t_step = np.linspace(0,3,200)\n",
    "sys_CL = pid_CL_tf(G_tf,Kp=1)\n",
    "t_step,y_step = c.step_response(sys_CL, t_step)\n",
    "\n",
    "fig = plt.figure()\n",
    "ax = fig.add_subplot(1, 1, 1)\n",
    "line, = ax.plot(t_step, y_step)\n",
    "plt.xlabel('time (s)')\n",
    "plt.ylabel('step response')\n",
    "plt.show()\n",
    "\n",
    "def update(Kp = 1.0, Ki = 0.0, Kd = 0.0):\n",
    "    global sys_CL, t_step\n",
    "    sys_CL = pid_CL_tf(G_tf,Kp=Kp,Ki=Ki,Kd=Kd)\n",
    "    t_step,y_step = c.step_response(sys_CL, t_step)\n",
    "    line.set_ydata(y_step)\n",
    "    ax.relim()\n",
    "    ax.autoscale_view()\n",
    "    fig.canvas.draw_idle()\n",
    "\n",
    "interact(update,Kp=(0.0,10.0),Ki=(0.0,20.0),Kd=(0.0,1.0));"
   ]
  },
  {
   "cell_type": "code",
   "execution_count": 39,
   "metadata": {},
   "outputs": [],
   "source": [
    "\n",
    "\n",
    "# t_step = np.linspace(0,3,200)\n",
    "\n",
    "\n",
    "# def step_response(Kp = 1.0, Ki = 0.0, Kd = 0.0):\n",
    "#     global t_step, G_tf\n",
    "#     s = c.TransferFunction.s\n",
    "#     C_tf = Kp + Ki/s + Kd*s\n",
    "#     sys_forward = C_tf*G_tf\n",
    "#     sys_CL = sys_forward/(1+sys_forward)\n",
    "#     t_step,y_step = c.step_response(sys_CL, t_step)\n",
    "#     return y_step\n",
    "\n",
    "# opts = {\n",
    "# #     'xlim': (0, 50),\n",
    "# #     'ylim': (0, 55),\n",
    "#     'animation_duration': 250,\n",
    "# }\n",
    "\n",
    "# nbi.line(\n",
    "#     t_step, \n",
    "#     step_response, \n",
    "#     Kp=(0,10),\n",
    "#     Ki=(0,20),\n",
    "#     Kd=(0,1),\n",
    "#     options=opts\n",
    "# )"
   ]
  },
  {
   "cell_type": "code",
   "execution_count": 45,
   "metadata": {},
   "outputs": [],
   "source": [
    "# def x_values(n): return np.random.choice(100, n)\n",
    "# def y_values(xs): return np.random.choice(100, len(xs))\n",
    "\n",
    "# nbi.scatter(x_values, y_values, n=(0,200))"
   ]
  },
  {
   "cell_type": "code",
   "execution_count": null,
   "metadata": {},
   "outputs": [],
   "source": []
  }
 ],
 "metadata": {
  "celltoolbar": "Tags",
  "kernelspec": {
   "display_name": "Python 3",
   "language": "python",
   "name": "python3"
  },
  "language_info": {
   "codemirror_mode": {
    "name": "ipython",
    "version": 3
   },
   "file_extension": ".py",
   "mimetype": "text/x-python",
   "name": "python",
   "nbconvert_exporter": "python",
   "pygments_lexer": "ipython3",
   "version": "3.7.3"
  },
  "varInspector": {
   "cols": {
    "lenName": 16,
    "lenType": 16,
    "lenVar": 40
   },
   "kernels_config": {
    "python": {
     "delete_cmd_postfix": "",
     "delete_cmd_prefix": "del ",
     "library": "var_list.py",
     "varRefreshCmd": "print(var_dic_list())"
    },
    "r": {
     "delete_cmd_postfix": ") ",
     "delete_cmd_prefix": "rm(",
     "library": "var_list.r",
     "varRefreshCmd": "cat(var_dic_list()) "
    }
   },
   "types_to_exclude": [
    "module",
    "function",
    "builtin_function_or_method",
    "instance",
    "_Feature"
   ],
   "window_display": false
  }
 },
 "nbformat": 4,
 "nbformat_minor": 4
}
