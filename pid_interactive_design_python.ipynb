{
 "cells": [
  {
   "cell_type": "code",
   "execution_count": 1,
   "metadata": {
    "tags": [
     "jupyter:kill_cell"
    ]
   },
   "outputs": [],
   "source": [
    "draft_mode = False\n",
    "# %matplotlib inline\n",
    "from front_matter import *\n",
    "import matplotlib as mpl"
   ]
  },
  {
   "cell_type": "markdown",
   "metadata": {},
   "source": [
    "First, load some Python packages."
   ]
  },
  {
   "cell_type": "code",
   "execution_count": 2,
   "metadata": {},
   "outputs": [],
   "source": [
    "import numpy as np # for numerics\n",
    "import sympy as sp # for symbolics\n",
    "import control as c # the Control Systems module!"
   ]
  },
  {
   "cell_type": "code",
   "execution_count": 3,
   "metadata": {},
   "outputs": [],
   "source": [
    "S,kp,ki,kd = sp.symbols('S kp ki kd')"
   ]
  },
  {
   "cell_type": "code",
   "execution_count": 4,
   "metadata": {},
   "outputs": [],
   "source": [
    "G_sym = 15000/(S**4+50*S**3+875*S**2+6250*S+15000)"
   ]
  },
  {
   "cell_type": "code",
   "execution_count": 5,
   "metadata": {},
   "outputs": [],
   "source": [
    "s = c.TransferFunction.s"
   ]
  },
  {
   "cell_type": "code",
   "execution_count": 6,
   "metadata": {},
   "outputs": [],
   "source": [
    "def sym_to_tf(tf_sym,s_var):\n",
    "    S = s_var\n",
    "    s = sp.symbols('s')\n",
    "    tf_sym = tf_sym.subs(S,s)\n",
    "    tf_str = str(tf_sym)\n",
    "    s = c.TransferFunction.s\n",
    "    ldict = {}\n",
    "    exec('tf_out = '+tf_str,globals(),ldict)\n",
    "    tf_out = ldict['tf_out']\n",
    "    return tf_out"
   ]
  },
  {
   "cell_type": "code",
   "execution_count": 7,
   "metadata": {},
   "outputs": [],
   "source": [
    "def pid_CL_tf(plant_tf,Kp=0,Ki=0,Kd=0):\n",
    "    s = c.TransferFunction.s\n",
    "    C_pid_tf = Kp + Ki/s + Kd*s\n",
    "    return c.feedback(C_pid_tf*plant_tf)"
   ]
  },
  {
   "cell_type": "code",
   "execution_count": 8,
   "metadata": {},
   "outputs": [],
   "source": [
    "G_tf = sym_to_tf(G_sym,S)"
   ]
  },
  {
   "cell_type": "code",
   "execution_count": 9,
   "metadata": {},
   "outputs": [
    {
     "data": {
      "text/latex": [
       "$$\\frac{1.5 \\times 10^{4}}{s^4 + 50 s^3 + 875 s^2 + 6250 s + 3 \\times 10^{4}}$$"
      ],
      "text/plain": [
       "\n",
       "                1.5e+04\n",
       "---------------------------------------\n",
       "s^4 + 50 s^3 + 875 s^2 + 6250 s + 3e+04"
      ]
     },
     "execution_count": 9,
     "metadata": {},
     "output_type": "execute_result"
    }
   ],
   "source": [
    "pid_CL_tf(G_tf,Kp=1)"
   ]
  },
  {
   "cell_type": "code",
   "execution_count": 49,
   "metadata": {},
   "outputs": [
    {
     "data": {
      "application/vnd.jupyter.widget-view+json": {
       "model_id": "1c2ce640924243cd896a6070bb646560",
       "version_major": 2,
       "version_minor": 0
      },
      "text/plain": [
       "Canvas(toolbar=Toolbar(toolitems=[('Home', 'Reset original view', 'home', 'home'), ('Back', 'Back to previous …"
      ]
     },
     "metadata": {},
     "output_type": "display_data"
    },
    {
     "data": {
      "application/vnd.jupyter.widget-view+json": {
       "model_id": "82fdaeb9622c43bbb66fb90a3fa98ce7",
       "version_major": 2,
       "version_minor": 0
      },
      "text/plain": [
       "interactive(children=(FloatSlider(value=1.0, description='Kp', max=10.0), FloatSlider(value=0.0, description='…"
      ]
     },
     "metadata": {},
     "output_type": "display_data"
    }
   ],
   "source": [
    "%matplotlib widget\n",
    "from ipywidgets import *\n",
    "import numpy as np\n",
    "import matplotlib.pyplot as plt\n",
    "\n",
    "t_step = np.linspace(0,3,200)\n",
    "sys_CL = pid_CL_tf(G_tf,Kp=1)\n",
    "t_step,y_step = c.step_response(sys_CL, t_step)\n",
    "\n",
    "fig = plt.figure()\n",
    "ax = fig.add_subplot(1, 1, 1)\n",
    "line, = ax.plot(t_step, y_step)\n",
    "plt.xlabel('time (s)')\n",
    "plt.ylabel('step response')\n",
    "\n",
    "def update(Kp = 1.0, Ki = 0.0, Kd = 0.0):\n",
    "    global sys_CL, t_step\n",
    "    sys_CL = pid_CL_tf(G_tf,Kp=Kp,Ki=Ki,Kd=Kd)\n",
    "    t_step,y_step = c.step_response(sys_CL, t_step)\n",
    "    line.set_ydata(y_step)\n",
    "    ax.relim()\n",
    "    ax.autoscale_view()\n",
    "    fig.canvas.draw_idle()\n",
    "\n",
    "interact(update,Kp=(0.0,10.0),Ki=(0.0,20.0),Kd=(0.0,1.0));"
   ]
  },
  {
   "cell_type": "code",
   "execution_count": 12,
   "metadata": {
    "tags": [
     "jupyter:kill_input"
    ]
   },
   "outputs": [
    {
     "data": {
      "text/latex": [
       "\\begin{center} \n",
       "\\resizebox{1\\linewidth}{!}{ \n",
       "\\includegraphics{source/gradient_descent_1.pdf}\n",
       "} \n",
       "\\end{center}"
      ],
      "text/plain": [
       "<IPython.core.display.Latex object>"
      ]
     },
     "execution_count": 12,
     "metadata": {},
     "output_type": "execute_result"
    }
   ],
   "source": [
    "pxfer(\n",
    "  fig_name=fig,\n",
    "  draft_mode=draft_mode,\n",
    "  filename=the_notebook,\n",
    "  linewidth=1, \n",
    "  bbox_inches='tight',\n",
    "  output_type='pdf',\n",
    ")"
   ]
  },
  {
   "cell_type": "markdown",
   "metadata": {},
   "source": [
    "Now consider $f_2$."
   ]
  },
  {
   "cell_type": "code",
   "execution_count": 13,
   "metadata": {},
   "outputs": [],
   "source": [
    "A = Matrix([[10,0],[0,20]])\n",
    "b = Matrix([[1,1]])\n",
    "def f2(x):\n",
    "  X = Array([x]).tomatrix().T\n",
    "  return 1/2*X.dot(A*X) - b.dot(X)\n",
    "gd = gradient_descent_min(f=f2,x=x,x0=[50,-40],T=1e-8)"
   ]
  },
  {
   "cell_type": "markdown",
   "metadata": {},
   "source": [
    "Perform the gradient descent."
   ]
  },
  {
   "cell_type": "code",
   "execution_count": 14,
   "metadata": {},
   "outputs": [],
   "source": [
    "gd.descend()"
   ]
  },
  {
   "cell_type": "markdown",
   "metadata": {},
   "source": [
    "Print the interesting variables."
   ]
  },
  {
   "cell_type": "code",
   "execution_count": 15,
   "metadata": {
    "tags": [
     "jupyter:kill_output"
    ]
   },
   "outputs": [
    {
     "name": "stdout",
     "output_type": "stream",
     "text": [
      "  N  x_k            g_k                        alpha\n",
      "---  -------------  ---------------------  ---------\n",
      "  0  [ 50 -40]      [ 499. -801.]          0\n",
      "  1  [17.58 12.04]  [ 499. -801.]          0.0649741\n",
      "  2  [ 8.07 -1.01]  [174.78 239.88]        0.0544221\n",
      "  3  [3.62 0.17]    [ 79.66 -21.22]        0.0558582\n",
      "  4  [ 0.49 -0.05]  [35.16  2.49]          0.0889491\n",
      "  5  [0.1  0.14]    [ 3.89 -1.94]          0.0990201\n",
      "  6  [0.1 0. ]      [0.04 1.9 ]            0.0750849\n",
      "  7  [0.1  0.05]    [ 0.01 -0.95]          0.050005\n",
      "  8  [0.1  0.05]    [4.74e-03 9.58e-05]    0.0500012\n",
      "  9  [0.1  0.05]    [ 2.37e-03 -2.38e-09]  0.0999186\n",
      " 10  [0.1  0.05]    [1.93e-06 2.37e-09]    0.1\n",
      " 11  [0.1  0.05]    [ 0.00e+00 -2.37e-09]  0.0999997\n"
     ]
    }
   ],
   "source": [
    "print(gd.table['python'])"
   ]
  },
  {
   "cell_type": "code",
   "execution_count": 16,
   "metadata": {
    "tags": [
     "jupyter:kill_input"
    ]
   },
   "outputs": [
    {
     "data": {
      "text/latex": [
       "\\begin{tabular}{rllr}\n",
       "\\hline\n",
       "   $N$ & $\\bm{x}_k$    & $\\bm{g}_k$            &   $\\alpha$ \\\\\n",
       "\\hline\n",
       "     0 & [ 50 -40]     & [ 499. -801.]         &  0         \\\\\n",
       "     1 & [17.58 12.04] & [ 499. -801.]         &  0.0649741 \\\\\n",
       "     2 & [ 8.07 -1.01] & [174.78 239.88]       &  0.0544221 \\\\\n",
       "     3 & [3.62 0.17]   & [ 79.66 -21.22]       &  0.0558582 \\\\\n",
       "     4 & [ 0.49 -0.05] & [35.16  2.49]         &  0.0889491 \\\\\n",
       "     5 & [0.1  0.14]   & [ 3.89 -1.94]         &  0.0990201 \\\\\n",
       "     6 & [0.1 0. ]     & [0.04 1.9 ]           &  0.0750849 \\\\\n",
       "     7 & [0.1  0.05]   & [ 0.01 -0.95]         &  0.050005  \\\\\n",
       "     8 & [0.1  0.05]   & [4.74e-03 9.58e-05]   &  0.0500012 \\\\\n",
       "     9 & [0.1  0.05]   & [ 2.37e-03 -2.38e-09] &  0.0999186 \\\\\n",
       "    10 & [0.1  0.05]   & [1.93e-06 2.37e-09]   &  0.1       \\\\\n",
       "    11 & [0.1  0.05]   & [ 0.00e+00 -2.37e-09] &  0.0999997 \\\\\n",
       "\\hline\n",
       "\\end{tabular}"
      ],
      "text/plain": [
       "<IPython.core.display.Latex object>"
      ]
     },
     "execution_count": 16,
     "metadata": {},
     "output_type": "execute_result"
    }
   ],
   "source": [
    "Latex(gd.table['latex'])"
   ]
  },
  {
   "cell_type": "markdown",
   "metadata": {},
   "source": [
    "Now let's `lambdify` the function `f2` so we can plot."
   ]
  },
  {
   "cell_type": "code",
   "execution_count": 17,
   "metadata": {},
   "outputs": [],
   "source": [
    "f2_lambda = lambdify((x1,x2),f2(x),'numpy')"
   ]
  },
  {
   "cell_type": "markdown",
   "metadata": {},
   "source": [
    "Now let's plot a contour plot with the gradient descent overlaid."
   ]
  },
  {
   "cell_type": "code",
   "execution_count": 18,
   "metadata": {
    "tags": [
     "jupyter:kill_output"
    ]
   },
   "outputs": [
    {
     "data": {
      "image/png": "[encoded data removed]",
      "text/plain": [
       "<Figure size 432x288 with 1 Axes>"
      ]
     },
     "metadata": {
      "needs_background": "light"
     },
     "output_type": "display_data"
    }
   ],
   "source": [
    "fig, ax = plt.subplots()\n",
    "# contour plot\n",
    "X1 = np.linspace(-100,100,100)\n",
    "X2 = np.linspace(-50,50,100)\n",
    "X1, X2 = np.meshgrid(X1,X2)\n",
    "F2 = f2_lambda(X1,X2)\n",
    "plt.contourf(X1,X2,F2)\n",
    "# gradient descent plot\n",
    "from mpl_toolkits.mplot3d import Axes3D\n",
    "from matplotlib.collections import LineCollection\n",
    "xX1 = gd.xk[:,0]\n",
    "xX2 = gd.xk[:,1]\n",
    "points = np.array([xX1, xX2]).T.reshape(-1, 1, 2)\n",
    "segments = np.concatenate(\n",
    "  [points[:-1], points[1:]], axis=1\n",
    ")\n",
    "lc = LineCollection(\n",
    "  segments, \n",
    "  cmap=plt.get_cmap('Reds')\n",
    ")\n",
    "lc.set_array(np.linspace(0,1,len(xX1))) # color segs\n",
    "lc.set_linewidth(3)\n",
    "ax.autoscale(False) # avoid the scatter changing lims\n",
    "ax.add_collection(lc)\n",
    "ax.scatter(\n",
    "  xX1,xX2,\n",
    "  zorder=1,\n",
    "  marker=\"o\",\n",
    "  color=plt.cm.Reds(np.linspace(0,1,len(xX1))),\n",
    "  edgecolor='none'\n",
    ")\n",
    "plt.show()"
   ]
  },
  {
   "cell_type": "code",
   "execution_count": 19,
   "metadata": {
    "tags": [
     "jupyter:kill_input"
    ]
   },
   "outputs": [
    {
     "data": {
      "text/latex": [
       "\\begin{center} \n",
       "\\resizebox{1\\linewidth}{!}{ \n",
       "\\includegraphics{source/gradient_descent_2.pdf}\n",
       "} \n",
       "\\end{center}"
      ],
      "text/plain": [
       "<IPython.core.display.Latex object>"
      ]
     },
     "execution_count": 19,
     "metadata": {},
     "output_type": "execute_result"
    }
   ],
   "source": [
    "pxfer(\n",
    "  fig_name=fig,\n",
    "  draft_mode=draft_mode,\n",
    "  filename=the_notebook,\n",
    "  linewidth=1, \n",
    "  bbox_inches='tight',\n",
    "  output_type='pdf',\n",
    ")"
   ]
  }
 ],
 "metadata": {
  "celltoolbar": "Tags",
  "kernelspec": {
   "display_name": "Python 3",
   "language": "python",
   "name": "python3"
  },
  "language_info": {
   "codemirror_mode": {
    "name": "ipython",
    "version": 3
   },
   "file_extension": ".py",
   "mimetype": "text/x-python",
   "name": "python",
   "nbconvert_exporter": "python",
   "pygments_lexer": "ipython3",
   "version": "3.7.3"
  },
  "varInspector": {
   "cols": {
    "lenName": 16,
    "lenType": 16,
    "lenVar": 40
   },
   "kernels_config": {
    "python": {
     "delete_cmd_postfix": "",
     "delete_cmd_prefix": "del ",
     "library": "var_list.py",
     "varRefreshCmd": "print(var_dic_list())"
    },
    "r": {
     "delete_cmd_postfix": ") ",
     "delete_cmd_prefix": "rm(",
     "library": "var_list.r",
     "varRefreshCmd": "cat(var_dic_list()) "
    }
   },
   "types_to_exclude": [
    "module",
    "function",
    "builtin_function_or_method",
    "instance",
    "_Feature"
   ],
   "window_display": false
  }
 },
 "nbformat": 4,
 "nbformat_minor": 4
}
